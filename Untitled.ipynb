{
 "cells": [
  {
   "cell_type": "code",
   "execution_count": null,
   "id": "c18b34fe-d420-4614-9110-3427435dfad1",
   "metadata": {},
   "outputs": [],
   "source": []
  },
  {
   "cell_type": "code",
   "execution_count": null,
   "id": "05e74fbb-6f5e-4f07-855d-a6a2a1062b32",
   "metadata": {},
   "outputs": [],
   "source": []
  },
  {
   "cell_type": "code",
   "execution_count": null,
   "id": "23a2b198-5334-434f-8944-7bdc4ba35eb2",
   "metadata": {},
   "outputs": [],
   "source": []
  },
  {
   "cell_type": "code",
   "execution_count": null,
   "id": "3fdb41cf-8daf-4fe9-b3d9-837b8d6d6985",
   "metadata": {},
   "outputs": [],
   "source": []
  },
  {
   "cell_type": "code",
   "execution_count": null,
   "id": "663cfe75-78d1-4998-b978-f93a40964ece",
   "metadata": {},
   "outputs": [],
   "source": []
  },
  {
   "cell_type": "code",
   "execution_count": null,
   "id": "2c5ef27c-841a-4188-8c8f-65139b771f6c",
   "metadata": {},
   "outputs": [],
   "source": []
  },
  {
   "cell_type": "code",
   "execution_count": null,
   "id": "2d5e3455-e98f-4779-a1c5-8066c9d20950",
   "metadata": {},
   "outputs": [],
   "source": []
  },
  {
   "cell_type": "code",
   "execution_count": null,
   "id": "50cf719e-4544-4308-a20c-1d65b4eca9db",
   "metadata": {},
   "outputs": [],
   "source": []
  },
  {
   "cell_type": "code",
   "execution_count": null,
   "id": "32825de2-5732-4cb1-a485-3a9fd7910d2d",
   "metadata": {},
   "outputs": [],
   "source": []
  },
  {
   "cell_type": "code",
   "execution_count": null,
   "id": "36331dbc-f7e0-4ffb-99d2-a873ed9f82ac",
   "metadata": {},
   "outputs": [],
   "source": []
  },
  {
   "cell_type": "code",
   "execution_count": null,
   "id": "dd620512-ee2b-4347-8a86-11fb248a051e",
   "metadata": {},
   "outputs": [],
   "source": []
  },
  {
   "cell_type": "code",
   "execution_count": null,
   "id": "41046f8e-c04d-44cb-9f90-273d706929c5",
   "metadata": {},
   "outputs": [],
   "source": []
  },
  {
   "cell_type": "code",
   "execution_count": 1,
   "id": "f674c79d-1bfe-429e-9612-b09cfd401a92",
   "metadata": {},
   "outputs": [
    {
     "ename": "ModuleNotFoundError",
     "evalue": "No module named 'config'",
     "output_type": "error",
     "traceback": [
      "\u001b[0;31m---------------------------------------------------------------------------\u001b[0m",
      "\u001b[0;31mModuleNotFoundError\u001b[0m                       Traceback (most recent call last)",
      "Input \u001b[0;32mIn [1]\u001b[0m, in \u001b[0;36m<cell line: 1>\u001b[0;34m()\u001b[0m\n\u001b[0;32m----> 1\u001b[0m \u001b[38;5;28;01mfrom\u001b[39;00m \u001b[38;5;21;01mconfig\u001b[39;00m \u001b[38;5;28;01mimport\u001b[39;00m LIST_DATASRC\n\u001b[1;32m      2\u001b[0m \u001b[38;5;28;01mfrom\u001b[39;00m \u001b[38;5;21;01mlib\u001b[39;00m\u001b[38;5;21;01m.\u001b[39;00m\u001b[38;5;21;01mhelpers\u001b[39;00m\u001b[38;5;21;01m.\u001b[39;00m\u001b[38;5;21;01mlogger\u001b[39;00m \u001b[38;5;28;01mimport\u001b[39;00m logger\n\u001b[1;32m      3\u001b[0m \u001b[38;5;28;01mfrom\u001b[39;00m \u001b[38;5;21;01mlib\u001b[39;00m\u001b[38;5;21;01m.\u001b[39;00m\u001b[38;5;21;01mmodules\u001b[39;00m\u001b[38;5;21;01m.\u001b[39;00m\u001b[38;5;21;01mdata_prep\u001b[39;00m\u001b[38;5;21;01m.\u001b[39;00m\u001b[38;5;21;01mdata_preparation_pipeline\u001b[39;00m \u001b[38;5;28;01mimport\u001b[39;00m run_data_prep\n",
      "\u001b[0;31mModuleNotFoundError\u001b[0m: No module named 'config'"
     ]
    }
   ],
   "source": [
    "from config import LIST_DATASRC\n",
    "from lib.helpers.logger import logger\n",
    "from lib.modules.data_prep.data_preparation_pipeline import run_data_prep\n",
    "from lib.modules.data_transformation.data_transformation_pipeline import run_data_transformation\n",
    "from lib.modules.data_exposition.data_exposition_pipeline import run_data_exposition\n",
    "\n",
    "if __name__ == \"__main__\":\n",
    "\n",
    "    logger.info(\"-:-  STEP 1 - Run Data preparation pipeline ---------------------:-\")\n",
    "    data_preparation_output = run_data_prep(LIST_DATASRC)\n",
    "    logger.info(data_preparation_output)\n",
    "\n",
    "    logger.info(\"-:-  STEP 2 - Run Data transformation pipeline -------------------:-\")\n",
    "    data_transformation_output = run_data_transformation(data_preparation_output)\n",
    "    logger.info(data_transformation_output)\n",
    "\n",
    "    logger.info(\"-:-  STEP 3 - Run Data exposition pipeline ------------------------:-\")\n",
    "    data_exposition_output = run_data_exposition(data_transformation_output)\n",
    "\n",
    "    logger.info(\"-:---------------Result--------------------------------------------:-\")\n",
    "    logger.info(data_exposition_output)"
   ]
  },
  {
   "cell_type": "code",
   "execution_count": null,
   "id": "5ccd144e-18e6-4701-998c-5648044b195e",
   "metadata": {},
   "outputs": [],
   "source": []
  }
 ],
 "metadata": {
  "kernelspec": {
   "display_name": "Python 3 (ipykernel)",
   "language": "python",
   "name": "python3"
  },
  "language_info": {
   "codemirror_mode": {
    "name": "ipython",
    "version": 3
   },
   "file_extension": ".py",
   "mimetype": "text/x-python",
   "name": "python",
   "nbconvert_exporter": "python",
   "pygments_lexer": "ipython3",
   "version": "3.9.12"
  }
 },
 "nbformat": 4,
 "nbformat_minor": 5
}
